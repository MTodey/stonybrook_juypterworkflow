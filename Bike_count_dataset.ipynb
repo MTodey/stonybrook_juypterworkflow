{
 "cells": [
  {
   "cell_type": "markdown",
   "metadata": {},
   "source": [
    "# Reproducible data analysis"
   ]
  },
  {
   "cell_type": "markdown",
   "metadata": {},
   "source": [
    "## Seattle Fremont Bridge bike count data\n",
    "\n",
    "Here again, is how we downloaded the bike data, but using a jupyter notebook instead of a python script executed by bash script in the Unix shell. \n",
    "- Either re-download here, or edit path to where you saved it yesterday\n",
    "\n",
    "Download data from here: https://data.seattle.gov/Transportation/Fremont-Bridge-Hourly-Bicycle-Counts-by-Month-Octo/65db-xm6k\n",
    "\n",
    "Right click on 'CSV' and copy link location"
   ]
  },
  {
   "cell_type": "code",
   "execution_count": 1,
   "metadata": {},
   "outputs": [
    {
     "data": {
      "text/plain": [
       "('Fremont.csv', <http.client.HTTPMessage at 0x1d66b5c0be0>)"
      ]
     },
     "execution_count": 1,
     "metadata": {},
     "output_type": "execute_result"
    }
   ],
   "source": [
    "# Version 1: Downloading the data\n",
    "# This version will download the bike data every time we run the script\n",
    "# This is unnecessary if you've already downloaded the file\n",
    "from urllib.request import urlretrieve\n",
    "\n",
    "URL = 'https://data.seattle.gov/api/views/65db-xm6k/rows.csv?accessType=DOWNLOAD'\n",
    "\n",
    "# You can now download the data from the database\n",
    "urlretrieve(URL, 'Fremont.csv')"
   ]
  },
  {
   "cell_type": "code",
   "execution_count": 2,
   "metadata": {
    "scrolled": true
   },
   "outputs": [
    {
     "name": "stdout",
     "output_type": "stream",
     "text": [
      "Date,Fremont Bridge East Sidewalk,Fremont Bridge West Sidewalk\n",
      "10/03/2012 12:00:00 AM,9,4\n",
      "10/03/2012 01:00:00 AM,6,4\n",
      "10/03/2012 02:00:00 AM,1,1\n",
      "10/03/2012 03:00:00 AM,3,2\n",
      "10/03/2012 04:00:00 AM,1,6\n",
      "10/03/2012 05:00:00 AM,10,21\n",
      "10/03/2012 06:00:00 AM,50,105\n",
      "10/03/2012 07:00:00 AM,95,257\n",
      "10/03/2012 08:00:00 AM,146,291\n"
     ]
    }
   ],
   "source": [
    "# we can use some bash commands in jupyter with the ! before the command\n",
    "!head Fremont.csv\n",
    "#!head ./bikedata/Fremont.csv"
   ]
  },
  {
   "cell_type": "code",
   "execution_count": 3,
   "metadata": {},
   "outputs": [
    {
     "data": {
      "text/html": [
       "<div>\n",
       "<style>\n",
       "    .dataframe thead tr:only-child th {\n",
       "        text-align: right;\n",
       "    }\n",
       "\n",
       "    .dataframe thead th {\n",
       "        text-align: left;\n",
       "    }\n",
       "\n",
       "    .dataframe tbody tr th {\n",
       "        vertical-align: top;\n",
       "    }\n",
       "</style>\n",
       "<table border=\"1\" class=\"dataframe\">\n",
       "  <thead>\n",
       "    <tr style=\"text-align: right;\">\n",
       "      <th></th>\n",
       "      <th>Date</th>\n",
       "      <th>Fremont Bridge East Sidewalk</th>\n",
       "      <th>Fremont Bridge West Sidewalk</th>\n",
       "    </tr>\n",
       "  </thead>\n",
       "  <tbody>\n",
       "    <tr>\n",
       "      <th>0</th>\n",
       "      <td>10/03/2012 12:00:00 AM</td>\n",
       "      <td>9.0</td>\n",
       "      <td>4.0</td>\n",
       "    </tr>\n",
       "    <tr>\n",
       "      <th>1</th>\n",
       "      <td>10/03/2012 01:00:00 AM</td>\n",
       "      <td>6.0</td>\n",
       "      <td>4.0</td>\n",
       "    </tr>\n",
       "    <tr>\n",
       "      <th>2</th>\n",
       "      <td>10/03/2012 02:00:00 AM</td>\n",
       "      <td>1.0</td>\n",
       "      <td>1.0</td>\n",
       "    </tr>\n",
       "    <tr>\n",
       "      <th>3</th>\n",
       "      <td>10/03/2012 03:00:00 AM</td>\n",
       "      <td>3.0</td>\n",
       "      <td>2.0</td>\n",
       "    </tr>\n",
       "    <tr>\n",
       "      <th>4</th>\n",
       "      <td>10/03/2012 04:00:00 AM</td>\n",
       "      <td>1.0</td>\n",
       "      <td>6.0</td>\n",
       "    </tr>\n",
       "  </tbody>\n",
       "</table>\n",
       "</div>"
      ],
      "text/plain": [
       "                     Date  Fremont Bridge East Sidewalk  \\\n",
       "0  10/03/2012 12:00:00 AM                           9.0   \n",
       "1  10/03/2012 01:00:00 AM                           6.0   \n",
       "2  10/03/2012 02:00:00 AM                           1.0   \n",
       "3  10/03/2012 03:00:00 AM                           3.0   \n",
       "4  10/03/2012 04:00:00 AM                           1.0   \n",
       "\n",
       "   Fremont Bridge West Sidewalk  \n",
       "0                           4.0  \n",
       "1                           4.0  \n",
       "2                           1.0  \n",
       "3                           2.0  \n",
       "4                           6.0  "
      ]
     },
     "execution_count": 3,
     "metadata": {},
     "output_type": "execute_result"
    }
   ],
   "source": [
    "# but since this is a dataframe, let's use pandas\n",
    "import pandas as pd\n",
    "data = pd.read_csv('Fremont.csv')\n",
    "#data = pd.read_csv('./bikedata/Fremont.csv')\n",
    "data.head()"
   ]
  },
  {
   "cell_type": "code",
   "execution_count": null,
   "metadata": {},
   "outputs": [
    {
     "data": {
      "text/html": [
       "<div>\n",
       "<style>\n",
       "    .dataframe thead tr:only-child th {\n",
       "        text-align: right;\n",
       "    }\n",
       "\n",
       "    .dataframe thead th {\n",
       "        text-align: left;\n",
       "    }\n",
       "\n",
       "    .dataframe tbody tr th {\n",
       "        vertical-align: top;\n",
       "    }\n",
       "</style>\n",
       "<table border=\"1\" class=\"dataframe\">\n",
       "  <thead>\n",
       "    <tr style=\"text-align: right;\">\n",
       "      <th></th>\n",
       "      <th>Fremont Bridge East Sidewalk</th>\n",
       "      <th>Fremont Bridge West Sidewalk</th>\n",
       "    </tr>\n",
       "    <tr>\n",
       "      <th>Date</th>\n",
       "      <th></th>\n",
       "      <th></th>\n",
       "    </tr>\n",
       "  </thead>\n",
       "  <tbody>\n",
       "    <tr>\n",
       "      <th>10/03/2012 12:00:00 AM</th>\n",
       "      <td>9.0</td>\n",
       "      <td>4.0</td>\n",
       "    </tr>\n",
       "    <tr>\n",
       "      <th>10/03/2012 01:00:00 AM</th>\n",
       "      <td>6.0</td>\n",
       "      <td>4.0</td>\n",
       "    </tr>\n",
       "    <tr>\n",
       "      <th>10/03/2012 02:00:00 AM</th>\n",
       "      <td>1.0</td>\n",
       "      <td>1.0</td>\n",
       "    </tr>\n",
       "    <tr>\n",
       "      <th>10/03/2012 03:00:00 AM</th>\n",
       "      <td>3.0</td>\n",
       "      <td>2.0</td>\n",
       "    </tr>\n",
       "    <tr>\n",
       "      <th>10/03/2012 04:00:00 AM</th>\n",
       "      <td>1.0</td>\n",
       "      <td>6.0</td>\n",
       "    </tr>\n",
       "  </tbody>\n",
       "</table>\n",
       "</div>"
      ],
      "text/plain": [
       "                        Fremont Bridge East Sidewalk  \\\n",
       "Date                                                   \n",
       "10/03/2012 12:00:00 AM                           9.0   \n",
       "10/03/2012 01:00:00 AM                           6.0   \n",
       "10/03/2012 02:00:00 AM                           1.0   \n",
       "10/03/2012 03:00:00 AM                           3.0   \n",
       "10/03/2012 04:00:00 AM                           1.0   \n",
       "\n",
       "                        Fremont Bridge West Sidewalk  \n",
       "Date                                                  \n",
       "10/03/2012 12:00:00 AM                           4.0  \n",
       "10/03/2012 01:00:00 AM                           4.0  \n",
       "10/03/2012 02:00:00 AM                           1.0  \n",
       "10/03/2012 03:00:00 AM                           2.0  \n",
       "10/03/2012 04:00:00 AM                           6.0  "
      ]
     },
     "execution_count": 4,
     "metadata": {},
     "output_type": "execute_result"
    }
   ],
   "source": [
    "# set index column as the date\n",
    "data = pd.read_csv('Fremont.csv', index_col='Date')\n",
    "data.head()"
   ]
  },
  {
   "cell_type": "code",
   "execution_count": null,
   "metadata": {},
   "outputs": [],
   "source": [
    "# let's parse the Date string\n",
    "# allows us to manipulate and use pieces of the Date information\n",
    "# takes a little while to parse the dates\n",
    "data = pd.read_csv('Fremont.csv', index_col='Date', parse_dates=True)\n",
    "data.head()"
   ]
  },
  {
   "cell_type": "code",
   "execution_count": null,
   "metadata": {},
   "outputs": [],
   "source": [
    "# let's check out the data!\n",
    "# plots matplotlib plots in the notebook instead of separate window\n",
    "%matplotlib inline \n",
    "data.plot()"
   ]
  },
  {
   "cell_type": "code",
   "execution_count": null,
   "metadata": {},
   "outputs": [],
   "source": [
    "# This is a bit dense\n",
    "# Let's take total number of rides each week \n",
    "# instead of each day across all years\n",
    "data.resample('W').sum().plot()\n",
    "# looks like traffic is increasing and in one year there \n",
    "# was more on the East than West side"
   ]
  },
  {
   "cell_type": "code",
   "execution_count": null,
   "metadata": {},
   "outputs": [],
   "source": [
    "# let's change the default matplotlib style to something else\n",
    "\n",
    "import matplotlib.pyplot as plt\n",
    "plt.style.use('seaborn') #seaborn is a differnt style\n",
    "data.resample('W').sum().plot();"
   ]
  },
  {
   "cell_type": "code",
   "execution_count": null,
   "metadata": {},
   "outputs": [],
   "source": [
    "# edit legend names\n",
    "data.columns = ['West', 'East'] \n",
    "data.resample('W').sum().plot()"
   ]
  },
  {
   "cell_type": "code",
   "execution_count": null,
   "metadata": {},
   "outputs": [],
   "source": [
    "# is there an annual trend? annual growth or decline?\n",
    "# make a rolling window\n",
    "# resample daily, sum over the whole year\n",
    "data.resample('D').sum().rolling(365).sum().plot()"
   ]
  },
  {
   "cell_type": "code",
   "execution_count": null,
   "metadata": {},
   "outputs": [],
   "source": [
    "# the axes don't start at 0, let's adjust that\n",
    "ax = data.resample('D').sum().rolling(365).sum().plot()\n",
    "ax.set_ylim(0, None) #0 to None (curent maximum)\n",
    "# ok, the change is a little less dramatic now"
   ]
  },
  {
   "cell_type": "code",
   "execution_count": null,
   "metadata": {},
   "outputs": [],
   "source": [
    "# Let's look at the total traffic \n",
    "# We can add columns to the dataframe\n",
    "data['Total'] = data['West'] + data['East']\n",
    "ax = data.resample('D').sum().rolling(365).sum().plot()\n",
    "ax.set_ylim(0, None) #0 to None (curent maximum)"
   ]
  },
  {
   "cell_type": "code",
   "execution_count": null,
   "metadata": {},
   "outputs": [],
   "source": [
    "# trend within individual days\n",
    "# group by time of day, take the mean over all years, and plot\n",
    "data.groupby(data.index.time).mean().plot()\n",
    "\n",
    "# interesting trends!\n",
    "# East side peaks in the morning\n",
    "# West side peaks in the afternoon\n",
    "# looks like a commute pattern"
   ]
  },
  {
   "cell_type": "code",
   "execution_count": null,
   "metadata": {},
   "outputs": [],
   "source": [
    "# let's look at this for the whole dataset\n",
    "    # trends in traffic by time of day for each year\n",
    "# good way to do this is to make a pivot table\n",
    "# the pivot table will show traffic \n",
    "pivoted = data.pivot_table('Total', index = data.index.time, columns=data.index.date)\n",
    "pivoted.iloc[:5, :5] # recall that iloc lets us subset the dataframe\n",
    "\n",
    "# col = day\n",
    "# row = hour during that day"
   ]
  },
  {
   "cell_type": "code",
   "execution_count": null,
   "metadata": {},
   "outputs": [],
   "source": [
    "# let's plot this\n",
    "pivoted.plot(legend=False, alpha=0.01)\n",
    "# alpha = transparency"
   ]
  },
  {
   "cell_type": "code",
   "execution_count": null,
   "metadata": {
    "collapsed": true
   },
   "outputs": [],
   "source": [
    "# We can see the bimodal commute pattern\n",
    "# there's also a slight peak in the middle\n",
    "# might be week day vs. weekend traffic\n",
    "\n",
    "# We can't see West vs. East trends anymore though\n",
    "# How would you do this?"
   ]
  },
  {
   "cell_type": "code",
   "execution_count": null,
   "metadata": {},
   "outputs": [],
   "source": [
    "pivoted_West = data.pivot_table('West', index = data.index.time, columns=data.index.date)\n",
    "pivoted_West.plot(legend=False, alpha=0.01)\n",
    "# West still peaks in afternoon"
   ]
  },
  {
   "cell_type": "code",
   "execution_count": null,
   "metadata": {},
   "outputs": [],
   "source": [
    "pivoted_East = data.pivot_table('East', index = data.index.time, columns=data.index.date)\n",
    "pivoted_East.plot(legend=False, alpha=0.01)\n",
    "# East still peaks in morning"
   ]
  },
  {
   "cell_type": "markdown",
   "metadata": {
    "collapsed": true
   },
   "source": [
    "Now, we'll learn how to work with jupyter notebooks and Github to add version control to our reproducible data analysis."
   ]
  },
  {
   "cell_type": "markdown",
   "metadata": {
    "collapsed": true
   },
   "source": [
    "#### Edits to our bike data notebook\n",
    "\n",
    "We're going to make some edits to make the notebook cleaner and more reproducible.\n",
    "\n",
    "1. move import and inline statements to the top\n",
    "1. edit how data is downloaded so it doesn't automatically download if file already exists\n",
    "1. put dataframe formatting into a function so it is automated\n",
    "1. force data download, even if the data is updated or for testing purposes"
   ]
  },
  {
   "cell_type": "code",
   "execution_count": null,
   "metadata": {
    "collapsed": true
   },
   "outputs": [],
   "source": [
    "%matplotlib inline\n",
    "import matplotlib.pyplot as plt\n",
    "plt.style.use('seaborn')"
   ]
  },
  {
   "cell_type": "code",
   "execution_count": null,
   "metadata": {
    "collapsed": true
   },
   "outputs": [],
   "source": [
    "# Version 2: Downloading the data\n",
    "# In this function, we write a function with conditional statements\n",
    "# to decide whether the file exists or not before downloading the data\n",
    "# We'll also add dataframe formatting to the function, so that the returned data\n",
    "# is ready to be analyzed\n",
    "\n",
    "import os\n",
    "from urllib.request import urlretrieve\n",
    "import pandas as pd\n",
    "\n",
    "URL = 'https://data.seattle.gov/api/views/65db-xm6k/rows.csv?accessType=DOWNLOAD'\n",
    "\n",
    "def get_fremont_data(filename='Fremont.csv', url=URL, force_download=False):\n",
    "    \n",
    "    # force_download or\n",
    "    # if the file does not exist in directory, retrieve\n",
    "    if force_download or not os.path.exists(filename):\n",
    "        urlretrieve(URL, filename)\n",
    "        \n",
    "    # otherwise, load in data as a pandas dataframe\n",
    "    # format the dataframe\n",
    "    data = pd.read_csv('Fremont.csv', index_col='Date', parse_dates=True)\n",
    "    data.columns = ['West', 'East'] # rename the columns\n",
    "    data['Total'] = data['West'] + data['East'] # combine columns\n",
    "    return data # this will return the formatted dataframe outside the function"
   ]
  },
  {
   "cell_type": "code",
   "execution_count": null,
   "metadata": {},
   "outputs": [],
   "source": [
    "data = get_fremont_data()"
   ]
  },
  {
   "cell_type": "code",
   "execution_count": null,
   "metadata": {},
   "outputs": [],
   "source": [
    "data.head()"
   ]
  },
  {
   "cell_type": "code",
   "execution_count": null,
   "metadata": {},
   "outputs": [],
   "source": [
    "data.resample('W').sum().plot()"
   ]
  },
  {
   "cell_type": "code",
   "execution_count": null,
   "metadata": {},
   "outputs": [],
   "source": [
    "ax = data.resample('D').sum().rolling(365).sum().plot()\n",
    "ax.set_ylim(0, None)"
   ]
  },
  {
   "cell_type": "code",
   "execution_count": null,
   "metadata": {},
   "outputs": [],
   "source": [
    "data.groupby(data.index.time).mean().plot()"
   ]
  },
  {
   "cell_type": "code",
   "execution_count": null,
   "metadata": {},
   "outputs": [],
   "source": [
    "pivoted = data.pivot_table('Total', index = data.index.time, columns=data.index.date)\n",
    "pivoted.plot(legend=False, alpha=0.01)"
   ]
  },
  {
   "cell_type": "markdown",
   "metadata": {},
   "source": [
    "#### Go back to terminal to add, commit, and push these changes to Github cloud!\n",
    "\n",
    "```\n",
    "git add Bike_count_data.py\n",
    "git commit -m 'cleaned up notebook'\n",
    "git push origin master\n",
    "```"
   ]
  },
  {
   "cell_type": "code",
   "execution_count": null,
   "metadata": {
    "collapsed": true
   },
   "outputs": [],
   "source": []
  },
  {
   "cell_type": "code",
   "execution_count": null,
   "metadata": {
    "collapsed": true
   },
   "outputs": [],
   "source": []
  },
  {
   "cell_type": "code",
   "execution_count": null,
   "metadata": {
    "collapsed": true
   },
   "outputs": [],
   "source": []
  },
  {
   "cell_type": "code",
   "execution_count": null,
   "metadata": {
    "collapsed": true
   },
   "outputs": [],
   "source": []
  }
 ],
 "metadata": {
  "kernelspec": {
   "display_name": "Python 3",
   "language": "python",
   "name": "python3"
  },
  "language_info": {
   "codemirror_mode": {
    "name": "ipython",
    "version": 3
   },
   "file_extension": ".py",
   "mimetype": "text/x-python",
   "name": "python",
   "nbconvert_exporter": "python",
   "pygments_lexer": "ipython3",
   "version": "3.6.3"
  }
 },
 "nbformat": 4,
 "nbformat_minor": 2
}
