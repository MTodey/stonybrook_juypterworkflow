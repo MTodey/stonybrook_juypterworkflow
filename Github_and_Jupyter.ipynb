{
 "cells": [
  {
   "cell_type": "markdown",
   "metadata": {},
   "source": [
    "# Git, Github, and Jupyter notebooks\n",
    "\n",
    "### Making your data analysis reproducible and saving you from losing scripts!"
   ]
  },
  {
   "cell_type": "markdown",
   "metadata": {
    "collapsed": true
   },
   "source": [
    "#### Creatie a Github account\n",
    "\n",
    "\n",
    "\n"
   ]
  },
  {
   "cell_type": "markdown",
   "metadata": {},
   "source": [
    "#### Git commands\n",
    "\n",
    "Important commands:\n",
    "- git clone\n",
    "- git status\n",
    "- git pull\n",
    "- git add\n",
    "- git commit -m \n",
    "- git push\n",
    "    - git push origin master\n",
    "\n"
   ]
  },
  {
   "cell_type": "markdown",
   "metadata": {},
   "source": [
    "#### Create a new repository\n",
    "\n",
    "\n",
    "\n",
    "1. Open Github \n",
    "1. Click + sign in top right corner next to your user icon to create a 'New repository'\n",
    "1. Name your repository (e.g., jupyterWorkflow_9Oct18)\n",
    "1. Give it a description (e.g., jupyter Workflow Example)\n",
    "1. You can choose to make this repository open to the public or private\n",
    "1. Check the box for initializing repository with a README file\n",
    "1. Under 'Add .gitignore', select 'Python'. This will ignore temporary files associated with Python\n",
    "1. Under 'Add a license', select MIT License.\n",
    "1. Click 'Creating repository'\n",
    "\n",
    "This gives us a cloud-based back-up where we can save and recover what we're working on.\n",
    "\n",
    "The repository has a unique web address that you can access by clicking the green 'Clone or download' button, e.g.,\n",
    "https://github.com/marisalim/stonybrook_juypterworkflow.git\n",
    "\n",
    "Now, we will clone this repository so that it exists on the cloud and on our local computer. \n",
    "1. Open terminal (on Windows machines, open Git bash)\n",
    "1. Navigate to the directory you set up for Github\n",
    "1. Enter 'git clone' and then copy/paste your repository URL like this:\n",
    "    ```\n",
    "    git clone <your repository URL>\n",
    "    \n",
    "    #git clone https://github.com/marisalim/stonybrook_juypterworkflow.git\n",
    "    ```\n",
    "    Enter your Github password to complete the clone!\n",
    "1. Move the jupyter notebook we've been working with to this repository\n",
    "    ```\n",
    "    mv <your path>/<your notebook name>.ipynb <name of repository>\n",
    "    \n",
    "    #mv ../../Dropbox/SCPythonOct8-9/Bike_count_dataset.ipynb ./stonybrook_juypterworkflow/\n",
    "    ```\n",
    "1. cd into the repository\n",
    "    ```\n",
    "    cd ./stonybrook_jupyterworkflow/\n",
    "    git status\n",
    "    ```\n",
    "    We have 1 untracked file, which is our jupyter notebook. This file exists on our local computer, but not on the cloud...yet! \n",
    "    \n",
    "1. We need to use a series of commands to put this notebook on the cloud too:\n",
    "    ```\n",
    "    # add file to staging area\n",
    "    git add Bike_count_dataset.ipynb\n",
    "    \n",
    "    # commit addition and include description\n",
    "        # descriptions are very useful for telling future you what this file is, if you made any changes to it, etc. \n",
    "        # these commit messages add to the power of version control\n",
    "        # you can go back to previous versions of your files. These descriptions can help tell you which version you want to look at\n",
    "     git commit -m \"Add initial analysis notebook\"\n",
    "    \n",
    "    # lastly, we push this addition to the cloud\n",
    "    git push origin master\n",
    "    # enter Github password to complete!\n",
    "    \n",
    "    git status\n",
    "    # this should show that there is nothing to commit now\n",
    "    ```\n",
    "Ok! There should now be a copy of the notebook on your local computer AND on the cloud. Refresh the repository webpage to check!\n",
    "\n",
    "Open your notebook. Github will render the notebook so it looks nice. Now we have a cloud-based version of this notebook on Github. Locally, we have the git repository where we can track changes and make changes to push to the cloud.\n",
    "\n",
    "- If you make changes to files locally, you can *push* those changes to the version on the cloud.\n",
    "- If you make changes to files on the cloud version, you can *pull* those changes down to your local version."
   ]
  },
  {
   "cell_type": "markdown",
   "metadata": {},
   "source": []
  },
  {
   "cell_type": "code",
   "execution_count": null,
   "metadata": {
    "collapsed": true
   },
   "outputs": [],
   "source": []
  },
  {
   "cell_type": "code",
   "execution_count": null,
   "metadata": {
    "collapsed": true
   },
   "outputs": [],
   "source": []
  },
  {
   "cell_type": "code",
   "execution_count": null,
   "metadata": {
    "collapsed": true
   },
   "outputs": [],
   "source": []
  },
  {
   "cell_type": "code",
   "execution_count": null,
   "metadata": {
    "collapsed": true
   },
   "outputs": [],
   "source": []
  },
  {
   "cell_type": "code",
   "execution_count": null,
   "metadata": {
    "collapsed": true
   },
   "outputs": [],
   "source": []
  },
  {
   "cell_type": "code",
   "execution_count": null,
   "metadata": {
    "collapsed": true
   },
   "outputs": [],
   "source": []
  },
  {
   "cell_type": "code",
   "execution_count": null,
   "metadata": {
    "collapsed": true
   },
   "outputs": [],
   "source": []
  },
  {
   "cell_type": "code",
   "execution_count": null,
   "metadata": {
    "collapsed": true
   },
   "outputs": [],
   "source": []
  },
  {
   "cell_type": "code",
   "execution_count": null,
   "metadata": {
    "collapsed": true
   },
   "outputs": [],
   "source": []
  },
  {
   "cell_type": "code",
   "execution_count": null,
   "metadata": {
    "collapsed": true
   },
   "outputs": [],
   "source": []
  },
  {
   "cell_type": "code",
   "execution_count": null,
   "metadata": {
    "collapsed": true
   },
   "outputs": [],
   "source": []
  },
  {
   "cell_type": "code",
   "execution_count": null,
   "metadata": {
    "collapsed": true
   },
   "outputs": [],
   "source": []
  },
  {
   "cell_type": "code",
   "execution_count": null,
   "metadata": {
    "collapsed": true
   },
   "outputs": [],
   "source": []
  },
  {
   "cell_type": "code",
   "execution_count": null,
   "metadata": {
    "collapsed": true
   },
   "outputs": [],
   "source": []
  },
  {
   "cell_type": "code",
   "execution_count": null,
   "metadata": {
    "collapsed": true
   },
   "outputs": [],
   "source": []
  },
  {
   "cell_type": "code",
   "execution_count": null,
   "metadata": {
    "collapsed": true
   },
   "outputs": [],
   "source": []
  },
  {
   "cell_type": "code",
   "execution_count": null,
   "metadata": {
    "collapsed": true
   },
   "outputs": [],
   "source": []
  },
  {
   "cell_type": "code",
   "execution_count": null,
   "metadata": {
    "collapsed": true
   },
   "outputs": [],
   "source": []
  }
 ],
 "metadata": {
  "kernelspec": {
   "display_name": "Python 3",
   "language": "python",
   "name": "python3"
  },
  "language_info": {
   "codemirror_mode": {
    "name": "ipython",
    "version": 3
   },
   "file_extension": ".py",
   "mimetype": "text/x-python",
   "name": "python",
   "nbconvert_exporter": "python",
   "pygments_lexer": "ipython3",
   "version": "3.6.3"
  }
 },
 "nbformat": 4,
 "nbformat_minor": 2
}
